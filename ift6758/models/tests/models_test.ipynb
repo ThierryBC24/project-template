{
 "cells": [
  {
   "cell_type": "code",
   "execution_count": 10,
   "metadata": {},
   "outputs": [],
   "source": [
    "import wandb\n",
    "import joblib\n",
    "import pandas as pd\n",
    "from sklearn.calibration import calibration_curve\n",
    "from sklearn.metrics import roc_curve, auc\n",
    "import matplotlib.pyplot as plt\n",
    "import numpy as np\n",
    "from xgboost import XGBClassifier"
   ]
  },
  {
   "cell_type": "code",
   "execution_count": 11,
   "metadata": {},
   "outputs": [
    {
     "name": "stderr",
     "output_type": "stream",
     "text": [
      "Failed to detect the name of this notebook, you can set it manually with the WANDB_NOTEBOOK_NAME environment variable to enable code saving.\n",
      "wandb: Using wandb-core as the SDK backend.  Please refer to https://wandb.me/wandb-core for more information.\n",
      "wandb: Currently logged in as: thierry-bedard-cortey (IFT67582024-A07). Use `wandb login --relogin` to force relogin\n"
     ]
    },
    {
     "data": {
      "text/html": [
       "Tracking run with wandb version 0.18.7"
      ],
      "text/plain": [
       "<IPython.core.display.HTML object>"
      ]
     },
     "metadata": {},
     "output_type": "display_data"
    },
    {
     "data": {
      "text/html": [
       "Run data is saved locally in <code>c:\\Users\\Thierry\\Desktop\\MILA\\Session 01\\IFT6758\\project-template\\ift6758\\models\\tests\\wandb\\run-20241122_232041-fjtfz6mc</code>"
      ],
      "text/plain": [
       "<IPython.core.display.HTML object>"
      ]
     },
     "metadata": {},
     "output_type": "display_data"
    },
    {
     "data": {
      "text/html": [
       "Syncing run <strong><a href='https://wandb.ai/IFT67582024-A07/Models%20Test/runs/fjtfz6mc' target=\"_blank\">cosmic-bush-4</a></strong> to <a href='https://wandb.ai/IFT67582024-A07/Models%20Test' target=\"_blank\">Weights & Biases</a> (<a href='https://wandb.me/developer-guide' target=\"_blank\">docs</a>)<br/>"
      ],
      "text/plain": [
       "<IPython.core.display.HTML object>"
      ]
     },
     "metadata": {},
     "output_type": "display_data"
    },
    {
     "data": {
      "text/html": [
       " View project at <a href='https://wandb.ai/IFT67582024-A07/Models%20Test' target=\"_blank\">https://wandb.ai/IFT67582024-A07/Models%20Test</a>"
      ],
      "text/plain": [
       "<IPython.core.display.HTML object>"
      ]
     },
     "metadata": {},
     "output_type": "display_data"
    },
    {
     "data": {
      "text/html": [
       " View run at <a href='https://wandb.ai/IFT67582024-A07/Models%20Test/runs/fjtfz6mc' target=\"_blank\">https://wandb.ai/IFT67582024-A07/Models%20Test/runs/fjtfz6mc</a>"
      ],
      "text/plain": [
       "<IPython.core.display.HTML object>"
      ]
     },
     "metadata": {},
     "output_type": "display_data"
    },
    {
     "data": {
      "text/html": [
       "<button onClick=\"this.nextSibling.style.display='block';this.style.display='none';\">Display W&B run</button><iframe src='https://wandb.ai/IFT67582024-A07/Models%20Test/runs/fjtfz6mc?jupyter=true' style='border:none;width:100%;height:420px;display:none;'></iframe>"
      ],
      "text/plain": [
       "<wandb.sdk.wandb_run.Run at 0x2253f1be7e0>"
      ]
     },
     "execution_count": 11,
     "metadata": {},
     "output_type": "execute_result"
    }
   ],
   "source": [
    "# Configure WandB\n",
    "wandb.login()\n",
    "wandb.init(\n",
    "    project=\"Models Test\",\n",
    ")"
   ]
  },
  {
   "cell_type": "markdown",
   "metadata": {},
   "source": [
    "### Load test dataset"
   ]
  },
  {
   "cell_type": "code",
   "execution_count": null,
   "metadata": {},
   "outputs": [],
   "source": [
    "# Load dataset\n",
    "play_by_play_path = \"../../data/dataframe_2020_to_2021.csv\"\n",
    "play_by_play = pd.read_csv(play_by_play_path)\n",
    "\n",
    "# Filter for regular-season games and remove missing values\n",
    "play_by_play = play_by_play.loc[play_by_play[\"gameType\"] == \"regular-season\"].dropna()\n",
    "\n",
    "# Remove non-relevant features\n",
    "X_all_features = play_by_play.drop(play_by_play.columns[[1, 2, 3, 5, 6, 14, 15, 16, 18, 19, 20, 21]], axis=1)\n",
    "features_to_encode = [\"previousEventType\", \"shotType\"]\n",
    "\n",
    "# Encode categorical features\n",
    "def encode_and_bind(df, feature):\n",
    "    dummies = pd.get_dummies(df[feature], prefix=feature)\n",
    "    return pd.concat([df.drop(columns=feature), dummies], axis=1)\n",
    "\n",
    "# Apply encoding on selected features\n",
    "for feature in features_to_encode:\n",
    "    X_all_features = encode_and_bind(X_all_features, feature)\n",
    "\n",
    "X_shot_distance = play_by_play[[\"shotDistance\"]]\n",
    "X_shot_angle = play_by_play[[\"shotAngle\"]]\n",
    "X_shot_distance_angle = play_by_play[[\"shotDistance\", \"shotAngle\"]]\n",
    "\n",
    "y = play_by_play[\"isGoal\"].values"
   ]
  },
  {
   "cell_type": "markdown",
   "metadata": {},
   "source": [
    "### Load the models from WandB"
   ]
  },
  {
   "cell_type": "markdown",
   "metadata": {},
   "source": [
    "Pour des raisons de compatibilité entre version Python, nous n'avons pas pu utiliser les fichiers .pkl de WandB pour les modèles de régression logistique"
   ]
  },
  {
   "cell_type": "code",
   "execution_count": 16,
   "metadata": {},
   "outputs": [],
   "source": [
    "model_path = \"logistic_regression_dist.pkl\"\n",
    "lr_distance_model = joblib.load(model_path)"
   ]
  },
  {
   "cell_type": "code",
   "execution_count": 15,
   "metadata": {},
   "outputs": [],
   "source": [
    "model_path = \"logistic_regression_angle.pkl\"\n",
    "lr_angle_model = joblib.load(model_path)"
   ]
  },
  {
   "cell_type": "code",
   "execution_count": 14,
   "metadata": {},
   "outputs": [],
   "source": [
    "model_path = \"logistic_regression_dist_angle.pkl\"\n",
    "lr_distance_angle_model = joblib.load(model_path)"
   ]
  },
  {
   "cell_type": "code",
   "execution_count": 12,
   "metadata": {},
   "outputs": [
    {
     "name": "stderr",
     "output_type": "stream",
     "text": [
      "wandb: WARNING Registries can be linked/fetched using a shorthand form without specifying the organization name. Try using shorthand path format: <my_registry_name>/<artifact_name> or just <my_registry_name> if fetching just the project.\n",
      "wandb:   1 of 1 files downloaded.  \n"
     ]
    }
   ],
   "source": [
    "xgboost_artifact = wandb.use_artifact('philippe-bergeron-7-universit-de-montr-al-org/wandb-registry-model/XGBoost:v4', type='model')\n",
    "xgboost_artifact_dir = xgboost_artifact.download()\n",
    "\n",
    "model_path = f\"{xgboost_artifact_dir}/xgboost_all_features.pkl\"\n",
    "xgboost_model = joblib.load(model_path)"
   ]
  },
  {
   "cell_type": "code",
   "execution_count": 13,
   "metadata": {},
   "outputs": [
    {
     "name": "stderr",
     "output_type": "stream",
     "text": [
      "wandb: WARNING Registries can be linked/fetched using a shorthand form without specifying the organization name. Try using shorthand path format: <my_registry_name>/<artifact_name> or just <my_registry_name> if fetching just the project.\n",
      "wandb:   1 of 1 files downloaded.  \n"
     ]
    }
   ],
   "source": [
    "random_forest_artifact = wandb.use_artifact('philippe-bergeron-7-universit-de-montr-al-org/wandb-registry-model/Random Forest:v0', type='model')\n",
    "random_forest_artifact_dir = random_forest_artifact.download()\n",
    "\n",
    "model_path = f\"{random_forest_artifact_dir}/RandomForest_Model.pkl\"\n",
    "rf_model = joblib.load(model_path)"
   ]
  },
  {
   "cell_type": "code",
   "execution_count": 12,
   "metadata": {},
   "outputs": [],
   "source": [
    "def generate_figures(model, X, y, model_name):\n",
    "    # Generate predictions and probabilities\n",
    "    y_pred_probs = model.predict_proba(X)[:, 1] if hasattr(model, \"predict_proba\") else model.decision_function(X)\n",
    "    y_pred = model.predict(X)\n",
    "\n",
    "    # Random baseline\n",
    "    np.random.seed(42)\n",
    "    prob_random = np.random.uniform(0, 1, len(y))\n",
    "\n",
    "    # **1. ROC Curve and AUC**\n",
    "    plt.figure(figsize=(8, 6))\n",
    "    for name, prob in [\n",
    "        (\"Modèle\", y_pred_probs),\n",
    "        (\"Aléatoire\", prob_random),\n",
    "    ]:\n",
    "        # Compute ROC curve and AUC\n",
    "        fpr, tpr, _ = roc_curve(y, prob)\n",
    "        roc_auc = auc(fpr, tpr)\n",
    "        plt.plot(fpr, tpr, label=f\"{name} (AUC = {roc_auc:.2f})\")\n",
    "\n",
    "    plt.xlabel(\"Taux de faux positifs (FPR)\")\n",
    "    plt.ylabel(\"Taux de vrais positifs (TPR)\")\n",
    "    plt.title(f\"Courbe ROC - {model_name}\")\n",
    "    plt.legend()\n",
    "    plt.grid()\n",
    "    plt.show()\n",
    "\n",
    "    # **2. Goal Rate by Probability Percentile**\n",
    "    plt.figure(figsize=(8, 6))\n",
    "    for name, prob in [\n",
    "        (\"Modèle\", y_pred_probs),\n",
    "        (\"Aléatoire\", prob_random),\n",
    "    ]:\n",
    "        sorted_indices = np.argsort(prob)\n",
    "        prob_sorted = np.array(prob[sorted_indices])\n",
    "        y_sorted = np.array(y[sorted_indices])\n",
    "\n",
    "        percentiles = np.percentile(prob_sorted, np.arange(0, 101, 10))\n",
    "        goal_rates = [\n",
    "            y_sorted[(prob_sorted >= percentiles[i]) & (prob_sorted < percentiles[i + 1])].mean()\n",
    "            if np.sum((prob_sorted >= percentiles[i]) & (prob_sorted < percentiles[i + 1])) > 0\n",
    "            else 0\n",
    "            for i in range(len(percentiles) - 1)\n",
    "        ]\n",
    "        plt.plot(np.arange(0, 100, 10), [rate * 100 for rate in goal_rates], label=name)\n",
    "\n",
    "    plt.xlabel(\"Centile de la probabilité prédite\")\n",
    "    plt.ylabel(\"Taux de buts (%)\")\n",
    "    plt.title(f\"Taux de buts par centile de probabilité - {model_name}\")\n",
    "    plt.ylim(0, 100)\n",
    "    plt.grid()\n",
    "    plt.legend()\n",
    "    plt.gca().invert_xaxis()\n",
    "    plt.show()\n",
    "\n",
    "    # **3. Cumulative Goal Proportion**\n",
    "    plt.figure(figsize=(8, 6))\n",
    "    for name, prob in [\n",
    "        (\"Modèle\", y_pred_probs),\n",
    "        (\"Aléatoire\", prob_random),\n",
    "    ]:\n",
    "        sorted_indices = np.argsort(prob)[::-1]\n",
    "        y_sorted = np.array(y)[sorted_indices]\n",
    "\n",
    "        cumulative_goals = np.cumsum(y_sorted)\n",
    "        total_goals = np.sum(y_sorted)\n",
    "\n",
    "        cumulative_goal_proportion = cumulative_goals / total_goals\n",
    "\n",
    "        centiles = np.linspace(100, 0, len(cumulative_goal_proportion))\n",
    "        plt.plot(centiles, cumulative_goal_proportion * 100, label=name)\n",
    "\n",
    "    plt.xlabel(\"Centile de la probabilité prédite\")\n",
    "    plt.ylabel(\"Proportion cumulée des buts (%)\")\n",
    "    plt.title(f\"Proportion cumulée des buts par centile de probabilité - {model_name}\")\n",
    "    plt.ylim(0, 100)\n",
    "    plt.grid()\n",
    "    plt.legend()\n",
    "    plt.gca().invert_xaxis()\n",
    "    plt.show()\n",
    "\n",
    "    # **4. Calibration Curve**\n",
    "    plt.figure(figsize=(8, 6))\n",
    "    for name, prob in [\n",
    "        (\"Modèle\", y_pred_probs),\n",
    "        (\"Aléatoire\", prob_random),\n",
    "    ]:\n",
    "        fraction_of_positives, mean_predicted_value = calibration_curve(y, prob, n_bins=10, strategy=\"quantile\")\n",
    "        plt.plot(mean_predicted_value, fraction_of_positives, label=name)\n",
    "\n",
    "    plt.plot([0, 1], [0, 1], \"k--\", label=\"Calibration parfaite\")\n",
    "    plt.xlabel(\"Probabilité prédite\")\n",
    "    plt.ylabel(\"Fréquence observée (empirique)\")\n",
    "    plt.title(f\"Diagramme de fiabilité (Calibration) - {model_name}\")\n",
    "    plt.legend()\n",
    "    plt.grid()\n",
    "    plt.show()"
   ]
  },
  {
   "cell_type": "code",
   "execution_count": null,
   "metadata": {},
   "outputs": [],
   "source": [
    "# Generate figures for each model\n",
    "generate_figures(lr_distance_model, X_shot_distance, y, \"Logistic Regression (Distance)\")\n",
    "generate_figures(lr_angle_model, X_shot_angle, y, \"Logistic Regression (Angle)\")\n",
    "generate_figures(lr_distance_angle_model, X_shot_distance_angle, y, \"Logistic Regression (Distance + Angle)\")\n",
    "generate_figures(rf_model, X_all_features, y, \"Random Forest\")\n",
    "generate_figures(xgboost_model, X_all_features, y, \"XGBoost\")"
   ]
  }
 ],
 "metadata": {
  "kernelspec": {
   "display_name": "ift6758-conda-env",
   "language": "python",
   "name": "python3"
  },
  "language_info": {
   "codemirror_mode": {
    "name": "ipython",
    "version": 3
   },
   "file_extension": ".py",
   "mimetype": "text/x-python",
   "name": "python",
   "nbconvert_exporter": "python",
   "pygments_lexer": "ipython3",
   "version": "3.12.7"
  }
 },
 "nbformat": 4,
 "nbformat_minor": 2
}
